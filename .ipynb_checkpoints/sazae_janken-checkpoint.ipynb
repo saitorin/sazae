{
 "cells": [
  {
   "cell_type": "code",
   "execution_count": 14,
   "id": "051139c9",
   "metadata": {},
   "outputs": [
    {
     "data": {
      "text/html": [
       "<div>\n",
       "<style scoped>\n",
       "    .dataframe tbody tr th:only-of-type {\n",
       "        vertical-align: middle;\n",
       "    }\n",
       "\n",
       "    .dataframe tbody tr th {\n",
       "        vertical-align: top;\n",
       "    }\n",
       "\n",
       "    .dataframe thead th {\n",
       "        text-align: right;\n",
       "    }\n",
       "</style>\n",
       "<table border=\"1\" class=\"dataframe\">\n",
       "  <thead>\n",
       "    <tr style=\"text-align: right;\">\n",
       "      <th></th>\n",
       "      <th>今回</th>\n",
       "    </tr>\n",
       "  </thead>\n",
       "  <tbody>\n",
       "    <tr>\n",
       "      <th>0</th>\n",
       "      <td>チョキ</td>\n",
       "    </tr>\n",
       "    <tr>\n",
       "      <th>1</th>\n",
       "      <td>グー</td>\n",
       "    </tr>\n",
       "    <tr>\n",
       "      <th>2</th>\n",
       "      <td>グー</td>\n",
       "    </tr>\n",
       "    <tr>\n",
       "      <th>3</th>\n",
       "      <td>パー</td>\n",
       "    </tr>\n",
       "    <tr>\n",
       "      <th>4</th>\n",
       "      <td>チョキ</td>\n",
       "    </tr>\n",
       "  </tbody>\n",
       "</table>\n",
       "</div>"
      ],
      "text/plain": [
       "    今回\n",
       "0  チョキ\n",
       "1   グー\n",
       "2   グー\n",
       "3   パー\n",
       "4  チョキ"
      ]
     },
     "execution_count": 14,
     "metadata": {},
     "output_type": "execute_result"
    }
   ],
   "source": [
    "#じゃんけんデータが格納されたcsvファイルを読み込み\n",
    "\n",
    "import pandas as pd\n",
    "import numpy as np\n",
    "\n",
    "df = pd.read_csv('sazae_data.csv',header=None)\n",
    "\n",
    "df.columns = ['今回']\n",
    "\n",
    "df.head()"
   ]
  },
  {
   "cell_type": "code",
   "execution_count": 16,
   "id": "6d836768",
   "metadata": {},
   "outputs": [
    {
     "data": {
      "text/html": [
       "<div>\n",
       "<style scoped>\n",
       "    .dataframe tbody tr th:only-of-type {\n",
       "        vertical-align: middle;\n",
       "    }\n",
       "\n",
       "    .dataframe tbody tr th {\n",
       "        vertical-align: top;\n",
       "    }\n",
       "\n",
       "    .dataframe thead th {\n",
       "        text-align: right;\n",
       "    }\n",
       "</style>\n",
       "<table border=\"1\" class=\"dataframe\">\n",
       "  <thead>\n",
       "    <tr style=\"text-align: right;\">\n",
       "      <th></th>\n",
       "      <th>今回</th>\n",
       "      <th>1回前</th>\n",
       "      <th>2回前</th>\n",
       "      <th>3回前</th>\n",
       "      <th>4回前</th>\n",
       "      <th>5回前</th>\n",
       "    </tr>\n",
       "  </thead>\n",
       "  <tbody>\n",
       "    <tr>\n",
       "      <th>0</th>\n",
       "      <td>チョキ</td>\n",
       "      <td>None</td>\n",
       "      <td>None</td>\n",
       "      <td>None</td>\n",
       "      <td>None</td>\n",
       "      <td>None</td>\n",
       "    </tr>\n",
       "    <tr>\n",
       "      <th>1</th>\n",
       "      <td>グー</td>\n",
       "      <td>チョキ</td>\n",
       "      <td>None</td>\n",
       "      <td>None</td>\n",
       "      <td>None</td>\n",
       "      <td>None</td>\n",
       "    </tr>\n",
       "    <tr>\n",
       "      <th>2</th>\n",
       "      <td>グー</td>\n",
       "      <td>グー</td>\n",
       "      <td>チョキ</td>\n",
       "      <td>None</td>\n",
       "      <td>None</td>\n",
       "      <td>None</td>\n",
       "    </tr>\n",
       "    <tr>\n",
       "      <th>3</th>\n",
       "      <td>パー</td>\n",
       "      <td>グー</td>\n",
       "      <td>グー</td>\n",
       "      <td>チョキ</td>\n",
       "      <td>None</td>\n",
       "      <td>None</td>\n",
       "    </tr>\n",
       "    <tr>\n",
       "      <th>4</th>\n",
       "      <td>チョキ</td>\n",
       "      <td>パー</td>\n",
       "      <td>グー</td>\n",
       "      <td>グー</td>\n",
       "      <td>チョキ</td>\n",
       "      <td>None</td>\n",
       "    </tr>\n",
       "  </tbody>\n",
       "</table>\n",
       "</div>"
      ],
      "text/plain": [
       "    今回   1回前   2回前   3回前   4回前   5回前\n",
       "0  チョキ  None  None  None  None  None\n",
       "1   グー   チョキ  None  None  None  None\n",
       "2   グー    グー   チョキ  None  None  None\n",
       "3   パー    グー    グー   チョキ  None  None\n",
       "4  チョキ    パー    グー    グー   チョキ  None"
      ]
     },
     "execution_count": 16,
     "metadata": {},
     "output_type": "execute_result"
    }
   ],
   "source": [
    "#m回前までの手を作成(今回は５)\n",
    "m = 5\n",
    "df1 = df.copy()\n",
    "\n",
    "for i in range(m):\n",
    "        df1['{}回前'.format(i+1)] = df1['今回'].shift(i+1)\n",
    "\n",
    "\n",
    "df1.head()"
   ]
  },
  {
   "cell_type": "code",
   "execution_count": 3,
   "id": "1e331599",
   "metadata": {},
   "outputs": [],
   "source": [
    "#連関係数を求める関数を作成\n",
    "\n",
    "def cramersV(x, y):\n",
    "    table = np.array(pd.crosstab(x, y)).astype(np.float32)\n",
    "    n = table.sum()\n",
    "    colsum = table.sum(axis=0)\n",
    "    rowsum = table.sum(axis=1)\n",
    "    expect = np.outer(rowsum, colsum) / n\n",
    "    chisq = np.sum((table - expect) ** 2 / expect)\n",
    "    return np.sqrt(chisq / (n * (np.min(table.shape) - 1)))"
   ]
  },
  {
   "cell_type": "code",
   "execution_count": 17,
   "id": "c71c28ef",
   "metadata": {},
   "outputs": [
    {
     "name": "stdout",
     "output_type": "stream",
     "text": [
      "[0.2043314758205126, 0.19107717963987356, 0.11620683422377748, 0.07695932973303105, 0.04332128590787384]\n",
      "0\n"
     ]
    }
   ],
   "source": [
    "#連関係数を求め、一番大きいものを確認（1回前との関係が最も大きいとわかる）\n",
    "li = []\n",
    "\n",
    "for i in range(m):\n",
    "    V = cramersV(df1['今回'], df1['{}回前'.format(i+1)])\n",
    "    li.append(V)\n",
    "    \n",
    "print(li)\n",
    "max_cross = li.index(max(li))\n",
    "print(max_cross)\n"
   ]
  },
  {
   "cell_type": "code",
   "execution_count": 18,
   "id": "fa53e622",
   "metadata": {},
   "outputs": [
    {
     "data": {
      "text/html": [
       "<div>\n",
       "<style scoped>\n",
       "    .dataframe tbody tr th:only-of-type {\n",
       "        vertical-align: middle;\n",
       "    }\n",
       "\n",
       "    .dataframe tbody tr th {\n",
       "        vertical-align: top;\n",
       "    }\n",
       "\n",
       "    .dataframe thead th {\n",
       "        text-align: right;\n",
       "    }\n",
       "</style>\n",
       "<table border=\"1\" class=\"dataframe\">\n",
       "  <thead>\n",
       "    <tr style=\"text-align: right;\">\n",
       "      <th>1回前</th>\n",
       "      <th>グー</th>\n",
       "      <th>チョキ</th>\n",
       "      <th>パー</th>\n",
       "    </tr>\n",
       "    <tr>\n",
       "      <th>今回</th>\n",
       "      <th></th>\n",
       "      <th></th>\n",
       "      <th></th>\n",
       "    </tr>\n",
       "  </thead>\n",
       "  <tbody>\n",
       "    <tr>\n",
       "      <th>グー</th>\n",
       "      <td>109</td>\n",
       "      <td>224</td>\n",
       "      <td>192</td>\n",
       "    </tr>\n",
       "    <tr>\n",
       "      <th>チョキ</th>\n",
       "      <td>227</td>\n",
       "      <td>110</td>\n",
       "      <td>235</td>\n",
       "    </tr>\n",
       "    <tr>\n",
       "      <th>パー</th>\n",
       "      <td>189</td>\n",
       "      <td>238</td>\n",
       "      <td>108</td>\n",
       "    </tr>\n",
       "  </tbody>\n",
       "</table>\n",
       "</div>"
      ],
      "text/plain": [
       "1回前   グー  チョキ   パー\n",
       "今回                \n",
       "グー   109  224  192\n",
       "チョキ  227  110  235\n",
       "パー   189  238  108"
      ]
     },
     "execution_count": 18,
     "metadata": {},
     "output_type": "execute_result"
    }
   ],
   "source": [
    "#連関係数が最も大きいもののクロス集計表\n",
    "df2 = pd.crosstab(df1['今回'],df1['{}回前'.format(max_cross +1)])\n",
    "df2"
   ]
  },
  {
   "cell_type": "code",
   "execution_count": 6,
   "id": "a8c475bb",
   "metadata": {},
   "outputs": [],
   "source": [
    "# 状態に対する次の手の確率を計算する関数\n",
    "def next_hand_probabilities(df, prev_hand):\n",
    "    prev_total = df[prev_hand].sum()  \n",
    "    gu_prob = df['グー'].loc[prev_hand] / prev_total\n",
    "    pa_prob = df['パー'].loc[prev_hand] / prev_total\n",
    "    cho_prob = df['チョキ'].loc[prev_hand] / prev_total\n",
    "    return gu_prob, pa_prob, cho_prob\n",
    "\n",
    "# 次の手をランダムに選択する関数\n",
    "def choose_next_hand(df, prev_hand):\n",
    "    prob_list = []\n",
    "    gu_prob, pa_prob, cho_prob = next_hand_probabilities(df, prev_hand)\n",
    "    prob_list.extend([gu_prob, pa_prob, cho_prob])\n",
    "    next_hand = np.random.choice(['グー', 'パー', 'チョキ'], p=prob_list)\n",
    "    return next_hand"
   ]
  },
  {
   "cell_type": "code",
   "execution_count": 19,
   "id": "2974c769",
   "metadata": {},
   "outputs": [
    {
     "name": "stdout",
     "output_type": "stream",
     "text": [
      "チョキ\n"
     ]
    }
   ],
   "source": [
    "#次の放送で出す手を予測\n",
    "prev_hand = df.iloc[0]['今回']\n",
    "next_hand = choose_next_hand(df2, prev_hand)\n",
    "print(next_hand)"
   ]
  },
  {
   "cell_type": "code",
   "execution_count": 32,
   "id": "6bed92b3",
   "metadata": {},
   "outputs": [
    {
     "data": {
      "text/html": [
       "<div>\n",
       "<style scoped>\n",
       "    .dataframe tbody tr th:only-of-type {\n",
       "        vertical-align: middle;\n",
       "    }\n",
       "\n",
       "    .dataframe tbody tr th {\n",
       "        vertical-align: top;\n",
       "    }\n",
       "\n",
       "    .dataframe thead th {\n",
       "        text-align: right;\n",
       "    }\n",
       "</style>\n",
       "<table border=\"1\" class=\"dataframe\">\n",
       "  <thead>\n",
       "    <tr style=\"text-align: right;\">\n",
       "      <th></th>\n",
       "      <th>今回</th>\n",
       "      <th>予測結果</th>\n",
       "    </tr>\n",
       "  </thead>\n",
       "  <tbody>\n",
       "    <tr>\n",
       "      <th>0</th>\n",
       "      <td>チョキ</td>\n",
       "      <td>None</td>\n",
       "    </tr>\n",
       "    <tr>\n",
       "      <th>1</th>\n",
       "      <td>グー</td>\n",
       "      <td>チョキ</td>\n",
       "    </tr>\n",
       "    <tr>\n",
       "      <th>2</th>\n",
       "      <td>グー</td>\n",
       "      <td>パー</td>\n",
       "    </tr>\n",
       "    <tr>\n",
       "      <th>3</th>\n",
       "      <td>パー</td>\n",
       "      <td>チョキ</td>\n",
       "    </tr>\n",
       "    <tr>\n",
       "      <th>4</th>\n",
       "      <td>チョキ</td>\n",
       "      <td>チョキ</td>\n",
       "    </tr>\n",
       "    <tr>\n",
       "      <th>...</th>\n",
       "      <td>...</td>\n",
       "      <td>...</td>\n",
       "    </tr>\n",
       "    <tr>\n",
       "      <th>1628</th>\n",
       "      <td>グー</td>\n",
       "      <td>チョキ</td>\n",
       "    </tr>\n",
       "    <tr>\n",
       "      <th>1629</th>\n",
       "      <td>チョキ</td>\n",
       "      <td>パー</td>\n",
       "    </tr>\n",
       "    <tr>\n",
       "      <th>1630</th>\n",
       "      <td>グー</td>\n",
       "      <td>グー</td>\n",
       "    </tr>\n",
       "    <tr>\n",
       "      <th>1631</th>\n",
       "      <td>パー</td>\n",
       "      <td>グー</td>\n",
       "    </tr>\n",
       "    <tr>\n",
       "      <th>1632</th>\n",
       "      <td>チョキ</td>\n",
       "      <td>パー</td>\n",
       "    </tr>\n",
       "  </tbody>\n",
       "</table>\n",
       "<p>1633 rows × 2 columns</p>\n",
       "</div>"
      ],
      "text/plain": [
       "       今回  予測結果\n",
       "0     チョキ  None\n",
       "1      グー   チョキ\n",
       "2      グー    パー\n",
       "3      パー   チョキ\n",
       "4     チョキ   チョキ\n",
       "...   ...   ...\n",
       "1628   グー   チョキ\n",
       "1629  チョキ    パー\n",
       "1630   グー    グー\n",
       "1631   パー    グー\n",
       "1632  チョキ    パー\n",
       "\n",
       "[1633 rows x 2 columns]"
      ]
     },
     "execution_count": 32,
     "metadata": {},
     "output_type": "execute_result"
    }
   ],
   "source": [
    "#過去データに対して結果を予測\n",
    "df3 = df.copy()\n",
    "\n",
    "df3['予測結果'] = df3['今回'].apply(lambda x: choose_next_hand(df2, x)).shift(1)\n",
    "\n",
    "df3"
   ]
  },
  {
   "cell_type": "code",
   "execution_count": 33,
   "id": "4974ebb2",
   "metadata": {},
   "outputs": [
    {
     "data": {
      "text/plain": [
       "37.41579914268218"
      ]
     },
     "execution_count": 33,
     "metadata": {},
     "output_type": "execute_result"
    }
   ],
   "source": [
    "#的中率を計算\n",
    "equal_count = (df3['今回'] == df3['予測結果']).sum()\n",
    "total_count = len(df3)\n",
    "equal_percentage = equal_count / total_count * 100\n",
    "\n",
    "equal_percentage"
   ]
  }
 ],
 "metadata": {
  "kernelspec": {
   "display_name": "Python 3 (ipykernel)",
   "language": "python",
   "name": "python3"
  },
  "language_info": {
   "codemirror_mode": {
    "name": "ipython",
    "version": 3
   },
   "file_extension": ".py",
   "mimetype": "text/x-python",
   "name": "python",
   "nbconvert_exporter": "python",
   "pygments_lexer": "ipython3",
   "version": "3.10.9"
  }
 },
 "nbformat": 4,
 "nbformat_minor": 5
}
